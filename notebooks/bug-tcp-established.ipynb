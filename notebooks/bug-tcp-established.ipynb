{
 "cells": [
  {
   "cell_type": "markdown",
   "metadata": {},
   "source": [
    "Check and run Batfish container."
   ]
  },
  {
   "cell_type": "code",
   "execution_count": 1,
   "metadata": {},
   "outputs": [
    {
     "name": "stdout",
     "output_type": "stream",
     "text": [
      "Batfish container is already running.\n"
     ]
    }
   ],
   "source": [
    "%%bash\n",
    "if (docker ps -f \"ancestor=batfish/batfish\" | grep \"0.0.0.0:9996-9997\" > /dev/null); then\n",
    "  echo \"Batfish container is already running.\"\n",
    "else\n",
    "  docker run -d -p 9997:9997 -p 9996:9996 batfish/batfish\n",
    "fi"
   ]
  },
  {
   "cell_type": "markdown",
   "metadata": {},
   "source": [
    "Run startup.py."
   ]
  },
  {
   "cell_type": "code",
   "execution_count": 2,
   "metadata": {},
   "outputs": [
    {
     "name": "stderr",
     "output_type": "stream",
     "text": [
      "/home/shino/.pyenv/versions/3.6.5/lib/python3.6/site-packages/pybatfish/client/commands.py:50: UserWarning: Pybatfish public API is being updated, note that API names and parameters will soon change.\n",
      "  \"Pybatfish public API is being updated, note that API names and parameters will soon change.\")\n"
     ]
    }
   ],
   "source": [
    "%run startup.py"
   ]
  },
  {
   "cell_type": "markdown",
   "metadata": {},
   "source": [
    "Declare flow informations."
   ]
  },
  {
   "cell_type": "code",
   "execution_count": 3,
   "metadata": {},
   "outputs": [],
   "source": [
    "src_ip = \"192.168.10.1\"\n",
    "dst_ip = \"192.168.20.1\"\n",
    "ip_protocol = \"TCP\"\n",
    "src_port =\"49512\"\n",
    "dst_port = \"80\"\n",
    "\n",
    "outbound_flow = HeaderConstraints(srcIps=src_ip,\n",
    "                         dstIps=dst_ip,\n",
    "                         ipProtocols=ip_protocol,\n",
    "                         srcPorts=src_port,\n",
    "                         dstPorts=dst_port,\n",
    "                         flowStates=\"new\")\n",
    "return_flow = HeaderConstraints(srcIps=dst_ip,\n",
    "                         dstIps=src_ip,\n",
    "                         ipProtocols=ip_protocol,\n",
    "                         srcPorts=dst_port,\n",
    "                         dstPorts=src_port,\n",
    "                         flowStates=\"established\"\n",
    "                         )"
   ]
  },
  {
   "cell_type": "markdown",
   "metadata": {},
   "source": [
    "Create hosts."
   ]
  },
  {
   "cell_type": "code",
   "execution_count": 4,
   "metadata": {},
   "outputs": [],
   "source": [
    "import json\n",
    "\n",
    "host_file_dir = \"networks/example2/hosts/\"\n",
    "src_host_dict = {\n",
    "                 \"hostname\": \"src_host\",\n",
    "                 \"hostInterfaces\": {\n",
    "                   \"eth0\": {\n",
    "                     \"name\": \"eth0\",\n",
    "                     \"prefix\": str(src_ip + \"/24\"),\n",
    "                     }\n",
    "                   }\n",
    "                 }\n",
    "\n",
    "dst_host_dict = {\n",
    "                 \"hostname\": \"dst_host\",\n",
    "                 \"hostInterfaces\": {\n",
    "                   \"eth0\": {\n",
    "                     \"name\": \"eth0\",\n",
    "                     \"prefix\": str(dst_ip + \"/24\"),\n",
    "                     }\n",
    "                   }\n",
    "                 }\n",
    "\n",
    "f = open(\"{dir}src_host.json\".format(dir=host_file_dir), \"w\")\n",
    "f.write(json.dumps(src_host_dict))\n",
    "f.close()\n",
    "\n",
    "f = open(\"{dir}dst_host.json\".format(dir=host_file_dir), \"w\")\n",
    "f.write(json.dumps(dst_host_dict))\n",
    "f.close()"
   ]
  },
  {
   "cell_type": "markdown",
   "metadata": {},
   "source": [
    "Upload configurations."
   ]
  },
  {
   "cell_type": "code",
   "execution_count": 5,
   "metadata": {
    "scrolled": true
   },
   "outputs": [
    {
     "data": {
      "text/plain": [
       "'current'"
      ]
     },
     "execution_count": 5,
     "metadata": {},
     "output_type": "execute_result"
    }
   ],
   "source": [
    "NETWORK_NAME = \"datacenter1\"\n",
    "SNAPSHOT_NAME = \"current\"\n",
    "SNAPSHOT_PATH = \"networks/example2\"\n",
    "\n",
    "bf_set_network(NETWORK_NAME)\n",
    "bf_init_snapshot(SNAPSHOT_PATH, name=SNAPSHOT_NAME, overwrite=True)"
   ]
  },
  {
   "cell_type": "markdown",
   "metadata": {},
   "source": [
    "## 5. 通信の検証\n",
    "\n",
    "以下のセルを実行し、結果を確認する。"
   ]
  },
  {
   "cell_type": "code",
   "execution_count": 6,
   "metadata": {},
   "outputs": [
    {
     "data": {
      "text/html": [
       "<style  type=\"text/css\" >\n",
       "    #T_fdd6e172_ddaa_11e8_ab13_48452060fbd0row0_col0 {\n",
       "            text-align:  left;\n",
       "            vertical-align:  top;\n",
       "        }    #T_fdd6e172_ddaa_11e8_ab13_48452060fbd0row0_col1 {\n",
       "            text-align:  left;\n",
       "            vertical-align:  top;\n",
       "        }    #T_fdd6e172_ddaa_11e8_ab13_48452060fbd0row0_col2 {\n",
       "            text-align:  left;\n",
       "            vertical-align:  top;\n",
       "        }</style>  \n",
       "<table id=\"T_fdd6e172_ddaa_11e8_ab13_48452060fbd0\" > \n",
       "<thead>    <tr> \n",
       "        <th class=\"blank level0\" ></th> \n",
       "        <th class=\"col_heading level0 col0\" >Flow</th> \n",
       "        <th class=\"col_heading level0 col1\" >Traces</th> \n",
       "        <th class=\"col_heading level0 col2\" >TraceCount</th> \n",
       "    </tr></thead> \n",
       "<tbody>    <tr> \n",
       "        <th id=\"T_fdd6e172_ddaa_11e8_ab13_48452060fbd0level0_row0\" class=\"row_heading level0 row0\" >0</th> \n",
       "        <td id=\"T_fdd6e172_ddaa_11e8_ab13_48452060fbd0row0_col0\" class=\"data row0 col0\" >192.168.10.1:49512 &rarr; 192.168.20.1:80<br>start=src_host</td> \n",
       "        <td id=\"T_fdd6e172_ddaa_11e8_ab13_48452060fbd0row0_col1\" class=\"data row0 col1\" ><span style=\"color:#019612; text-weight:bold;\">ACCEPTED</span><br><strong>1</strong>. node: src_host<br>steps: FORWARDED(Routes: static [Network: 0.0.0.0/0, Next Hop IP:AUTO/NONE(-1l)]) &rarr; TRANSMITTED(eth0)<br><strong>2</strong>. node: core<br>steps: RECEIVED(GigabitEthernet1/0: seg10in) &rarr; FORWARDED(Routes: connected [Network: 192.168.20.0/24, Next Hop IP:AUTO/NONE(-1l)]) &rarr; TRANSMITTED(GigabitEthernet2/0)<br><strong>3</strong>. node: dst_host<br>steps: RECEIVED(eth0) &rarr; ACCEPTED(InboundStep)</td> \n",
       "        <td id=\"T_fdd6e172_ddaa_11e8_ab13_48452060fbd0row0_col2\" class=\"data row0 col2\" >1</td> \n",
       "    </tr></tbody> \n",
       "</table> "
      ],
      "text/plain": [
       "<pandas.io.formats.style.Styler at 0x7f11491cdc50>"
      ]
     },
     "metadata": {},
     "output_type": "display_data"
    }
   ],
   "source": [
    "# outbound - expected result\n",
    "traceroute_ob_ans = bfq.traceroute(\n",
    "                                headers=outbound_flow,\n",
    "                                startLocation=\"src_host\",\n",
    "                                #startLocation=\"enter(core[GigabitEthernet1/0])\"\n",
    "                               ).answer()\n",
    "display_html(traceroute_ob_ans.frame())"
   ]
  },
  {
   "cell_type": "code",
   "execution_count": 7,
   "metadata": {},
   "outputs": [
    {
     "data": {
      "text/html": [
       "<style  type=\"text/css\" >\n",
       "    #T_fff79794_ddaa_11e8_ab13_48452060fbd0row0_col0 {\n",
       "            text-align:  left;\n",
       "            vertical-align:  top;\n",
       "        }    #T_fff79794_ddaa_11e8_ab13_48452060fbd0row0_col1 {\n",
       "            text-align:  left;\n",
       "            vertical-align:  top;\n",
       "        }    #T_fff79794_ddaa_11e8_ab13_48452060fbd0row0_col2 {\n",
       "            text-align:  left;\n",
       "            vertical-align:  top;\n",
       "        }</style>  \n",
       "<table id=\"T_fff79794_ddaa_11e8_ab13_48452060fbd0\" > \n",
       "<thead>    <tr> \n",
       "        <th class=\"blank level0\" ></th> \n",
       "        <th class=\"col_heading level0 col0\" >Flow</th> \n",
       "        <th class=\"col_heading level0 col1\" >Traces</th> \n",
       "        <th class=\"col_heading level0 col2\" >TraceCount</th> \n",
       "    </tr></thead> \n",
       "<tbody>    <tr> \n",
       "        <th id=\"T_fff79794_ddaa_11e8_ab13_48452060fbd0level0_row0\" class=\"row_heading level0 row0\" >0</th> \n",
       "        <td id=\"T_fff79794_ddaa_11e8_ab13_48452060fbd0row0_col0\" class=\"data row0 col0\" >192.168.20.1:80 &rarr; 192.168.10.1:49512<br>start=dst_host</td> \n",
       "        <td id=\"T_fff79794_ddaa_11e8_ab13_48452060fbd0row0_col1\" class=\"data row0 col1\" ><span style=\"color:#7c020e; text-weight:bold;\">DENIED_IN</span><br><strong>1</strong>. node: dst_host<br>steps: FORWARDED(Routes: static [Network: 0.0.0.0/0, Next Hop IP:AUTO/NONE(-1l)]) &rarr; TRANSMITTED(eth0)<br><strong>2</strong>. node: core<br>steps: DENIED(GigabitEthernet2/0: seg20in)</td> \n",
       "        <td id=\"T_fff79794_ddaa_11e8_ab13_48452060fbd0row0_col2\" class=\"data row0 col2\" >1</td> \n",
       "    </tr></tbody> \n",
       "</table> "
      ],
      "text/plain": [
       "<pandas.io.formats.style.Styler at 0x7f1111ab4cc0>"
      ]
     },
     "metadata": {},
     "output_type": "display_data"
    }
   ],
   "source": [
    "# return - unexpected result\n",
    "traceroute_rt_ans = bfq.traceroute(\n",
    "                                   headers=return_flow,\n",
    "                                   startLocation=\"dst_host\",\n",
    "                                  ).answer()\n",
    "display_html(traceroute_rt_ans.frame())"
   ]
  }
 ],
 "metadata": {
  "kernelspec": {
   "display_name": "Python 3",
   "language": "python",
   "name": "python3"
  },
  "language_info": {
   "codemirror_mode": {
    "name": "ipython",
    "version": 3
   },
   "file_extension": ".py",
   "mimetype": "text/x-python",
   "name": "python",
   "nbconvert_exporter": "python",
   "pygments_lexer": "ipython3",
   "version": "3.6.5"
  }
 },
 "nbformat": 4,
 "nbformat_minor": 2
}
